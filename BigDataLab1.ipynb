{
  "nbformat": 4,
  "nbformat_minor": 0,
  "metadata": {
    "colab": {
      "name": "BigDataLab1.ipynb",
      "provenance": [],
      "collapsed_sections": [],
      "authorship_tag": "ABX9TyNCEexrYloN4x5oCpEuo48y",
      "include_colab_link": true
    },
    "kernelspec": {
      "name": "python3",
      "display_name": "Python 3"
    },
    "language_info": {
      "name": "python"
    }
  },
  "cells": [
    {
      "cell_type": "markdown",
      "metadata": {
        "id": "view-in-github",
        "colab_type": "text"
      },
      "source": [
        "<a href=\"https://colab.research.google.com/github/AlexNoonan-Syracuse/lab3/blob/main/BigDataLab1.ipynb\" target=\"_parent\"><img src=\"https://colab.research.google.com/assets/colab-badge.svg\" alt=\"Open In Colab\"/></a>"
      ]
    },
    {
      "cell_type": "code",
      "metadata": {
        "id": "9RQjGgEmspLV"
      },
      "source": [
        "!pip install fuzzymatcher"
      ],
      "execution_count": null,
      "outputs": []
    },
    {
      "cell_type": "code",
      "metadata": {
        "id": "4g-UQe__qdK2"
      },
      "source": [
        "import pandas as pd\n",
        "import matplotlib.pyplot as plt\n",
        "import scipy\n",
        "import seaborn as sns\n",
        "from pandas.io.html import read_html\n",
        "import fuzzymatcher\n",
        "\n",
        "# Obtain data and understand elements\n",
        "csvURL = \"https://raw.githubusercontent.com/2SUBDA/IST_718/master/Coaches9.csv\"\n",
        "\n",
        "coaches = pd.read_csv(csvURL)\n",
        "#print(coaches.isna().sum())\n",
        "\n",
        "#print(coaches.head())\n",
        "\n",
        "coaches['Conference'] = coaches['Conference'].str.replace('Ind.', 'Independent')\n",
        "coaches['Conference'] = coaches['Conference'].str.replace('Mt. West', 'Mountain West')\n",
        "# cleaning and changing dtype of numeric columns\n",
        "coaches['SchoolPay'] = coaches['SchoolPay'].str.replace(',', '')\n",
        "coaches['SchoolPay'] = coaches['SchoolPay'].str.replace('$', '')\n",
        "coaches['SchoolPay'] = coaches['SchoolPay'].str.replace('--', '')\n",
        "coaches['SchoolPay'] = pd.to_numeric(coaches['SchoolPay'])\n",
        "\n",
        "coaches['TotalPay'] = coaches['TotalPay'].str.replace(',', '')\n",
        "coaches['TotalPay'] = coaches['TotalPay'].str.replace('$', '')\n",
        "coaches['TotalPay'] = coaches['TotalPay'].str.replace('--', '')\n",
        "coaches['TotalPay'] = pd.to_numeric(coaches['TotalPay'])\n",
        "\n",
        "coaches['Bonus'] = coaches['Bonus'].str.replace(',', '')\n",
        "coaches['Bonus'] = coaches['Bonus'].str.replace('$', '')\n",
        "coaches['Bonus'] = coaches['Bonus'].str.replace('--', '')\n",
        "coaches['Bonus'] = pd.to_numeric(coaches['Bonus'])\n",
        "coaches['Bonus'] = coaches['Bonus'].fillna(0)\n",
        "\n",
        "coaches['BonusPaid'] = coaches['BonusPaid'].str.replace(',', '')\n",
        "coaches['BonusPaid'] = coaches['BonusPaid'].str.replace('$', '')\n",
        "coaches['BonusPaid'] = coaches['BonusPaid'].str.replace('--', '')\n",
        "coaches['BonusPaid'] = pd.to_numeric(coaches['BonusPaid'])\n",
        "coaches['BonusPaid'] = coaches['BonusPaid'].fillna(0)\n",
        "\n",
        "coaches['AssistantPay'] = coaches['AssistantPay'].str.replace(',', '')\n",
        "coaches['AssistantPay'] = coaches['AssistantPay'].str.replace('$', '')\n",
        "coaches['AssistantPay'] = coaches['AssistantPay'].str.replace('--', '')\n",
        "coaches['AssistantPay'] = pd.to_numeric(coaches['AssistantPay'])\n",
        "\n",
        "coaches['Buyout'] = coaches['Buyout'].str.replace(',', '')\n",
        "coaches['Buyout'] = coaches['Buyout'].str.replace('$', '')\n",
        "coaches['Buyout'] = coaches['Buyout'].str.replace('--', '')\n",
        "coaches['Buyout'] = pd.to_numeric(coaches['Buyout'])\n",
        "coaches['Buyout'] = coaches['Buyout'].fillna(0)\n",
        "\n",
        "print(coaches.head())"
      ],
      "execution_count": null,
      "outputs": []
    },
    {
      "cell_type": "code",
      "metadata": {
        "id": "-3T3FnrL4Qkb"
      },
      "source": [
        "# pulling in other data sources\n",
        "\n",
        "#stadium capacity\n",
        "\n",
        "page = 'https://www.collegegridirons.com/comparisons-by-capacity/'\n",
        "table1 = read_html(page, index_col=0, attrs={\"class\":\"tableizer-table\"})\n",
        "df1 = pd.DataFrame(table1[0])\n",
        "\n",
        "df1.dtypes"
      ],
      "execution_count": null,
      "outputs": []
    },
    {
      "cell_type": "markdown",
      "metadata": {
        "id": "QU0unKALu50K"
      },
      "source": [
        ""
      ]
    },
    {
      "cell_type": "code",
      "metadata": {
        "id": "fgfM_hZZutK1"
      },
      "source": [
        "#win rates \n",
        "table2 = read_html('https://www.ncaa.com/stats/football/fbs/current/team/742')\n",
        "#wikitables = read_html(page, index_col=0, infer_types=False, attrs={\"class\":\"wikitable\"})\n",
        "table2 = pd.DataFrame(table2[0])\n",
        "\n",
        "table3 = read_html('https://www.ncaa.com/stats/football/fbs/current/team/742/p2')\n",
        "table3 = pd.DataFrame(table3[0])\n",
        "table4 = read_html('https://www.ncaa.com/stats/football/fbs/current/team/742/p3')\n",
        "table4 = pd.DataFrame(table4[0])\n",
        "table2 = table2.append(table3)\n",
        "df2 = table2.append(table4)\n",
        "df2['Team'] = df2['Team'].str.replace('App State', 'Appalachian State')\n",
        "df2['Team'] = df2['Team'].str.replace('Arizona', 'Arizona State')\n",
        "df2['Team'] = df2['Team'].str.replace('Florida', 'Florida State')\n",
        "df2['Team'] = df2['Team'].str.replace('Colorado', 'Colorado State')\n",
        "df2['Team'] = df2['Team'].str.replace('Iowa', 'Iowa State')\n",
        "df2['Team'] = df2['Team'].str.replace('Boise St.', 'Boise State')\n",
        "df2['Team'] = df2['Team'].str.replace('Army West Point', 'Army')\n",
        "#table2.head()\n",
        "#df2.columns"
      ],
      "execution_count": 60,
      "outputs": []
    },
    {
      "cell_type": "code",
      "metadata": {
        "id": "yR_fDcqm3ZS8"
      },
      "source": [
        "# grad data \n",
        "df3 = pd.read_csv(\"https://raw.githubusercontent.com/AlexNoonan-Syracuse/lab3/main/26801-0001-Data.tsv\", sep=\"\\t\")\n",
        "\n",
        "#print(df3.head())\n",
        "#print(df3.columns)\n",
        "# normalizing conference names to join to other dataframes\n",
        "df3['CONFNAME_14'] = df3['CONFNAME_14'].str.replace('Conference USA', 'C-USA')\n",
        "df3['CONFNAME_14'] = df3['CONFNAME_14'].str.replace('American Athletic Conference', 'AAC')\n",
        "df3['CONFNAME_14'] = df3['CONFNAME_14'].str.replace('Southeastern Conference', 'SEC')\n",
        "df3['CONFNAME_14'] = df3['CONFNAME_14'].str.replace('Pac-12 Conference', 'Pac-12')\n",
        "df3['CONFNAME_14'] = df3['CONFNAME_14'].str.replace('Sun Belt Conference', 'Sun Belt')\n",
        "df3['CONFNAME_14'] = df3['CONFNAME_14'].str.replace('Mid-American Conference', 'MAC')\n",
        "df3['CONFNAME_14'] = df3['CONFNAME_14'].str.replace('Mountain West Conference','Mountain West')\n",
        "df3['CONFNAME_14'] = df3['CONFNAME_14'].str.replace('Atlantic Coast Conference','ACC')\n",
        "df3['CONFNAME_14'] = df3['CONFNAME_14'].str.replace('Big Ten Conference','Big Ten')\n",
        "df3['SCL_NAME'] = df3['SCL_NAME'].str.replace('Georgia Institute of Technology','Georgia Tech')\n",
        "df3['SCL_NAME'] = df3['SCL_NAME'].str.replace('University at Buffalo, the State University of New York','Buffalo')\n",
        "df3['SCL_NAME'] = df3['SCL_NAME'].str.replace('Rutgers, The State University of New Jersey, New Brunswick','Rutgers')\n",
        "#df3.describe()"
      ],
      "execution_count": 75,
      "outputs": []
    },
    {
      "cell_type": "code",
      "metadata": {
        "id": "kMLC70k8D_yA"
      },
      "source": [
        "table6 = read_html(\"https://sports.usatoday.com/ncaa/finances\")\n",
        "df4 = pd.DataFrame(table6[0])\n",
        "df4.dtypes"
      ],
      "execution_count": null,
      "outputs": []
    },
    {
      "cell_type": "code",
      "metadata": {
        "id": "jQ7YPiQN4HfS"
      },
      "source": [
        "# unique school names for each df \n",
        "# coaches, df1, df2, df3, df4\n",
        "coachesSchoolNames = list(coaches['School'].unique())\n",
        "df1_SchoolNames = list(df1['College'].unique())\n",
        "df2_SchoolNames = list(df2['Team'].unique())\n",
        "df3_SchoolNames = list(df3['SCL_NAME'].unique())\n",
        "df4_SchoolNames = list(df4['School'].unique())\n",
        "\n",
        "#main list\n",
        "#print(coachesSchoolNames)\n",
        "#print(df1_SchoolNames)\n",
        "\n",
        "#print(df2_SchoolNames)\n",
        "\n",
        "#print(df3_SchoolNames)\n",
        "\n",
        "#print(df4_SchoolNames)\n",
        "\n",
        "# unique Conference for each df\n",
        "coachesConfNames = list(coaches['Conference'].unique())\n",
        "df1_ConfNames = list(df1['Conference'].unique())\n",
        "# no conference in df2 df2_ConfNames = list(df2['Team'].unique())\n",
        "df3_ConfNames = list(df3['CONFNAME_14'].unique())\n",
        "df4_ConfNames = list(df4['Conf'].unique())\n",
        "#print(coachesConfNames)\n",
        "#print(df1_ConfNames)\n",
        "#print(df3_ConfNames)\n",
        "#print(df4_ConfNames)"
      ],
      "execution_count": null,
      "outputs": []
    },
    {
      "cell_type": "code",
      "metadata": {
        "id": "SsH_pXrx7j3A"
      },
      "source": [
        "\n",
        "# joining coaches to df1\n",
        "# maybe do some name normalizing instead \n",
        "\n",
        "left_on1 = [\"School\", \"Conference\"]\n",
        "right_on1 = [\"College\", \"Conference\"]\n",
        "\n",
        "dfJoined = fuzzymatcher.fuzzy_left_join(coaches,df1, left_on1, right_on1)\n",
        "dfJoined.sort_values(by='best_match_score', ascending = False)\n",
        "\n",
        "# removing bad joins and \"resetting dataframe\"\n",
        "dfJoined = dfJoined[dfJoined['best_match_score'] > 0.1 ]\n",
        "dfJoined = dfJoined.drop(columns=['best_match_score', '__id_left', '__id_right', 'College','Conference_right'])\n",
        "dfJoined = dfJoined.rename(columns={\"Conference_left\": \"Conference\"})\n",
        "\n",
        "# joining df2\n",
        "left_on2 = [\"School\"]\n",
        "right_on2 = [\"Team\"]\n",
        "dfJoined = fuzzymatcher.fuzzy_left_join(dfJoined,df2, left_on2, right_on2)\n",
        "dfJoined = dfJoined[dfJoined['best_match_score'] > 0.05 ]\n",
        "dfJoined = dfJoined.drop(columns=['best_match_score', '__id_left', '__id_right', 'Team'])\n",
        "\n",
        "# join main df to df3\n",
        "right_on3 = [\"SCL_NAME\", \"CONFNAME_14\"]\n",
        "\n",
        "dfJoined = fuzzymatcher.fuzzy_left_join(dfJoined, df3, left_on1, right_on3)\n",
        "dfJoined = dfJoined[dfJoined['best_match_score'] > 0.1 ]\n",
        "dfJoined = dfJoined.drop(columns=['best_match_score', '__id_left', '__id_right', 'SCL_NAME', 'CONFNAME_14'])\n",
        "\n",
        "# join main df to df4\n",
        "\n",
        "right_on4 = [\"School\", \"Conf\"]\n",
        "dfJoined = fuzzymatcher.fuzzy_left_join(dfJoined, df4, left_on1, right_on4)\n",
        "dfJoined = dfJoined[dfJoined['best_match_score'] > 0.15 ]\n",
        "dfJoined = dfJoined.drop(columns=['best_match_score', '__id_left', '__id_right', 'School_right', 'Conf'])\n",
        "\n",
        "dfJoined.reset_index(inplace=True)\n",
        "dfJoined = dfJoined.drop(columns=['index'])"
      ],
      "execution_count": 103,
      "outputs": []
    },
    {
      "cell_type": "code",
      "metadata": {
        "id": "Qj2OPgcwT7n2"
      },
      "source": [
        "print(len(dfJoined))\n",
        "# cleaningmain dataframe\n"
      ],
      "execution_count": null,
      "outputs": []
    },
    {
      "cell_type": "code",
      "metadata": {
        "id": "oj7UwS8do6We"
      },
      "source": [
        "print(len(coaches))\n",
        "\n",
        "#print(coaches.dtypes)\n",
        "print(coaches.isna().sum())\n",
        "\n",
        "#coaches.head()\n",
        "# na values in Schoolpay and total pay gotta do something with these.\n",
        "#coaches.loc[coaches['SchoolPay'].isna()]\n",
        "coaches.loc[coaches['TotalPay'].isna()]\n",
        "\n"
      ],
      "execution_count": null,
      "outputs": []
    },
    {
      "cell_type": "code",
      "metadata": {
        "id": "xs8LVZoW8ET6"
      },
      "source": [
        "from IPython.core.pylabtools import figsize\n",
        "# descriptive statistics\n",
        "\n",
        "coaches.describe()\n",
        "\n",
        "\n",
        "codes, values = pd.factorize(coaches['Conference'].unique())\n",
        "conferenceIds = pd.DataFrame({\"Conference\":values, \"ConferenceCodes\":codes})\n",
        "coaches = pd.merge(left=coaches, right=conferenceIds, left_on=\"Conference\", right_on = \"Conference\")\n",
        "coaches.head()\n",
        "\n",
        "fig, axs = plt.subplots(2, 1, figsize = (10,12))\n",
        "g1 = sns.scatterplot(x='School', y='SchoolPay', data=coaches, hue='Conference', ec=None, ax=axs[0] )\n",
        "g1.set(xticklabels=[])\n",
        "g1.set(title='Pay by School and Conference')\n",
        "g1.set(xlabel=\"School\")\n",
        "g1.set(xticks=[])\n",
        "g1.set(yticks=[])\n",
        "\n",
        "\n",
        "axs[1].hist(x= coaches['TotalPay'], bins=25)\n",
        "\n",
        "plt.show()\n",
        "print(coaches['TotalPay'].min())\n",
        "print(coaches['TotalPay'].max())\n",
        "\n",
        "# box plots per conference\n"
      ],
      "execution_count": null,
      "outputs": []
    },
    {
      "cell_type": "code",
      "metadata": {
        "id": "p37_kX-uk9z4"
      },
      "source": [
        "fig, axis = plt.subplots()\n",
        "axis.set_xlabel('Conference')\n",
        "axis.set_ylabel('SchoolPay')\n",
        "axis.set_title(\"School Pay Per Conference\")\n",
        "conference = sns.boxplot(x=\"Conference\", y=\"SchoolPay\", data=coaches, color = \"blue\"  );\n",
        "\n",
        "axis.set_xticklabels(coaches['Conference'].unique())\n",
        "axis.tick_params(axis=\"x\", labelrotation=45 )\n",
        "plt.show()\n",
        "\n"
      ],
      "execution_count": null,
      "outputs": []
    },
    {
      "cell_type": "markdown",
      "metadata": {
        "id": "lakkAgV3An5i"
      },
      "source": [
        ""
      ]
    }
  ]
}